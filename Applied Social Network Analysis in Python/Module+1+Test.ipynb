{
 "cells": [
  {
   "cell_type": "code",
   "execution_count": 1,
   "metadata": {
    "collapsed": true
   },
   "outputs": [],
   "source": [
    "import networkx as nx"
   ]
  },
  {
   "cell_type": "code",
   "execution_count": 20,
   "metadata": {
    "collapsed": true
   },
   "outputs": [],
   "source": [
    "G = nx.Graph()\n",
    "G.add_edge(\"A\", \"B\", weight = 16, relation = \"family\")\n",
    "G.add_edge(\"B\", \"C\", weight = 13, relation = \"friend\")"
   ]
  },
  {
   "cell_type": "code",
   "execution_count": 22,
   "metadata": {},
   "outputs": [
    {
     "data": {
      "text/plain": [
       "{'A': {'B': {'relation': 'family', 'weight': 16}},\n",
       " 'B': {'A': {'relation': 'family', 'weight': 16},\n",
       "  'C': {'relation': 'friend', 'weight': 13}},\n",
       " 'C': {'B': {'relation': 'friend', 'weight': 13}}}"
      ]
     },
     "execution_count": 22,
     "metadata": {},
     "output_type": "execute_result"
    }
   ],
   "source": [
    "G.edge"
   ]
  },
  {
   "cell_type": "code",
   "execution_count": 34,
   "metadata": {
    "collapsed": true
   },
   "outputs": [],
   "source": [
    "from networkx.algorithms import bipartite\n",
    "B = nx.Graph() \n",
    "B.add_nodes_from(['A','B','C','D', 'E'], bipartite=0)\n",
    "B.add_nodes_from([1,2,3,4], bipartite=1)\n",
    "B.add_edges_from([('A',1), ('B',1), ('C',1), ('C',3), ('D',2), ('E',3), ('E', 4)])\n"
   ]
  },
  {
   "cell_type": "code",
   "execution_count": 41,
   "metadata": {
    "collapsed": true
   },
   "outputs": [],
   "source": [
    "bipartite.is_bipartite(B)\n",
    "B.add_edge(\"A\", \"B\")\n",
    "bipartite.is_bipartite(B)\n",
    "B.remove_edge(\"A\", \"B\")"
   ]
  },
  {
   "cell_type": "code",
   "execution_count": 49,
   "metadata": {},
   "outputs": [
    {
     "data": {
      "text/plain": [
       "True"
      ]
     },
     "execution_count": 49,
     "metadata": {},
     "output_type": "execute_result"
    }
   ],
   "source": [
    "X = set([1,2 , 3, 4, ])\n",
    "bipartite.is_bipartite_node_set(B, X)\n"
   ]
  },
  {
   "cell_type": "code",
   "execution_count": 56,
   "metadata": {
    "collapsed": true
   },
   "outputs": [],
   "source": [
    "B = nx.Graph()\n",
    "B.add_edges_from([('A',1), ('B',1), ('C',1),('D',1),('H',1), ('B', 2), ('C', 2), ('D', 2),('E', 2), ('G', 2), ('E', 3), ('F', 3), ('H', 3),\n",
    "('J', 3), ('E', 4), ('I', 4), ('J', 4) ])\n",
    "X = ['A','B','C','D', 'E', 'F','G', 'H', 'I','J']\n",
    "P = bipartite.projected_graph(B, X)"
   ]
  }
 ],
 "metadata": {
  "kernelspec": {
   "display_name": "Python 3",
   "language": "python",
   "name": "python3"
  },
  "language_info": {
   "codemirror_mode": {
    "name": "ipython",
    "version": 3
   },
   "file_extension": ".py",
   "mimetype": "text/x-python",
   "name": "python",
   "nbconvert_exporter": "python",
   "pygments_lexer": "ipython3",
   "version": "3.6.2"
  }
 },
 "nbformat": 4,
 "nbformat_minor": 2
}
